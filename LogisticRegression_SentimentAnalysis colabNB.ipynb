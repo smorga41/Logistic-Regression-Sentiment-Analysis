{
  "nbformat": 4,
  "nbformat_minor": 0,
  "metadata": {
    "colab": {
      "name": "LogisticRegression_SentimentAnalysis.ipynb",
      "provenance": [],
      "collapsed_sections": [],
      "toc_visible": true
    },
    "kernelspec": {
      "name": "python3",
      "display_name": "Python 3"
    },
    "accelerator": "GPU"
  },
  "cells": [
    {
      "cell_type": "markdown",
      "metadata": {
        "id": "bNtLtMnzTaAI",
        "colab_type": "text"
      },
      "source": [
        "# Headstart IMDB reviews sentiment analysis project\n",
        "\n",
        "In this project the aim is to build a machine learning model able to classify movie reviews into *positive* or *negative*, extracting information from the text of the review. This task is called **Sentiment Analysis**, where you need to identify the sentiment of a text.\n",
        "\n",
        "We downloaded the data from [Kaggle](https://www.kaggle.com/lakshmi25npathi/imdb-dataset-of-50k-movie-reviews), however, the original data is available [here](http://ai.stanford.edu/~amaas/data/sentiment/). You **do not** need to download this data, we have already downloaded this data below for you in the correct training, validation and test splits.\n",
        "\n",
        "You are given the data split into:\n",
        "- training data: 30,000 reviews annotated with *positive* and *negative* labels;\n",
        "- validation data: 10,000 reviews annotated with *positive* and *negative* labels;\n",
        "- test data: 10,000 reviews un-labelled for which you should predict labels for (you will submit your predictions for this test data to the competition server). \n",
        "\n",
        "Your challenge is to write a program to guess whether each review is labelled as positive or negative. \n",
        "\n",
        "For humans it is quite easy to do. For example one review starts: \"i can't believe how dumb this movie truly is.\" which we would rightly assign as being a negative review, but can we program a computer to guess?\n",
        "\n",
        "We could hardcode a lot of rules (e.g. does it contain \"dumb\", \"boring\" vs \"good\", \"superb\") and that is one approach that might work in some simple domains, but we are interested here in learning from data (\"machine learning\"). This is what the 30,000 training examples and 10,000 validation examples are for. You should use these to train (and validate) a machine learning classifier to decide for each string whether it is a *positive* or *negative* review.\n",
        "\n",
        "We have a competition server set up on [Codalab](https://competitions.codalab.org/competitions/25363#participate-submit_results) which knows the true labels for these reviews. You will need to [create an account](https://competitions.codalab.org/accounts/signup/) on CodaLab then upload your predictions. These are in the form of a zipped textfile (each row says 'positive' or 'negative'). We have tried to make this easier by providing the ```create_zip``` function below. This generates the answer.zip file with your predictions. You will them be able to submit this file into the Codalab website and we will create a leaderboard with all answers. You can submit as many entries as you want, but me mindful that your user/team name is going to appear in the leaderboard!\n",
        "\n",
        "We hope you enjoy the challenge!"
      ]
    },
    {
      "cell_type": "markdown",
      "metadata": {
        "id": "r_O1lCWxcQtw",
        "colab_type": "text"
      },
      "source": [
        "## Modules, Functions and Downloads\n",
        "\n",
        "The following few cells import useful modules, download the datasets and provide a series of useful functions. Feel free to run these without needing to read through them."
      ]
    },
    {
      "cell_type": "code",
      "metadata": {
        "id": "c_VspJfDScrk",
        "colab_type": "code",
        "colab": {}
      },
      "source": [
        "##These are some python libraries that will be useful for your project\n",
        "#(feel free to just run this cell & move on)\n",
        "import numpy as np\n",
        "import urllib.request\n",
        "from urllib.request import urlopen\n",
        "import re\n",
        "from zipfile import ZipFile\n",
        "from google.colab import files\n",
        "import warnings\n",
        "warnings.filterwarnings('ignore')\n",
        "import matplotlib.pyplot as plt\n",
        "%matplotlib inline\n",
        "import pandas as pd\n",
        "\n",
        "#classifiers from sklearn. More options here: https://scikit-learn.org/stable/supervised_learning.html#supervised-learning\n",
        "from sklearn.linear_model import LogisticRegression #Logistic regression classifier: https://scikit-learn.org/stable/modules/linear_model.html#logistic-regression\n",
        "from sklearn.neighbors import KNeighborsClassifier #K-neareast neighbors classifier: https://scikit-learn.org/stable/modules/neighbors.html#nearest-neighbors-classification\n",
        "from sklearn.dummy import DummyClassifier #Dummy classifier (majority class): https://scikit-learn.org/stable/modules/generated/sklearn.dummy.DummyClassifier.html\n",
        "from sklearn.naive_bayes import GaussianNB #Naive Bayes classifier: https://scikit-learn.org/stable/modules/naive_bayes.html#gaussian-naive-bayes\n",
        "from sklearn.tree import DecisionTreeClassifier #Decision tree classifier: https://scikit-learn.org/stable/modules/tree.html#classification\n",
        "from sklearn.ensemble import RandomForestClassifier #Random Forests classifier: https://scikit-learn.org/stable/modules/ensemble.html#forests-of-randomized-trees\n",
        "from sklearn.neural_network import MLPClassifier #Multi-layer perceptron classifier: https://scikit-learn.org/stable/modules/neural_networks_supervised.html#classification\n",
        "\n",
        "#pre-processing and feature extraction\n",
        "from nltk.corpus import stopwords\n",
        "from sklearn.feature_extraction.text import TfidfVectorizer\n",
        "from sklearn.feature_extraction.text import CountVectorizer\n",
        "\n",
        "#evaluation\n",
        "from sklearn.metrics import accuracy_score, confusion_matrix"
      ],
      "execution_count": 18,
      "outputs": []
    },
    {
      "cell_type": "markdown",
      "metadata": {
        "id": "WAXAXfd8VLZx",
        "colab_type": "text"
      },
      "source": [
        "This cell just loads the data in the correct splits for our challenge. You should not change this part!"
      ]
    },
    {
      "cell_type": "code",
      "metadata": {
        "id": "ng1R6cATWmJ6",
        "colab_type": "code",
        "colab": {}
      },
      "source": [
        "### DO NOT change this part ###\n",
        "\n",
        "#loading datasets\n",
        "df_test = pd.read_csv('https://github.com/carolscarton/headstart/raw/master/data/hs2020_imdb_test.csv')\n",
        "df_val = pd.read_csv('https://github.com/carolscarton/headstart/raw/master/data/hs2020_imdb_val.csv')\n",
        "df_train = pd.read_csv('https://github.com/carolscarton/headstart/raw/master/data/hs2020_imdb_train.csv')"
      ],
      "execution_count": 19,
      "outputs": []
    },
    {
      "cell_type": "markdown",
      "metadata": {
        "id": "CwY-ftmxU4ci",
        "colab_type": "text"
      },
      "source": [
        "Pre-processing function (same as in the practical session)."
      ]
    },
    {
      "cell_type": "code",
      "metadata": {
        "id": "Glbo_A3FJkDx",
        "colab_type": "code",
        "colab": {}
      },
      "source": [
        "########### PRE-PROCESSING ###########\n",
        "#Pre-processing the reviews\n",
        "#normalise words, remove punctuation, remove extra spaces, etc\n",
        "def pre_proc(features):\n",
        "    processed_features = []\n",
        "    for sentence in range(0, len(features)):\n",
        "        # Remove all tags (like <br />)\n",
        "        processed_feature = re.sub(r'<.*?>', ' ', str(features[sentence]))\n",
        "\n",
        "        #Remove all special characters\n",
        "        processed_feature = re.sub(r'[^a-zA-Z0-9]', ' ', processed_feature)\n",
        "\n",
        "        # Substituting multiple spaces with single space\n",
        "        processed_feature = re.sub(r'\\s+', ' ', processed_feature, flags=re.I)\n",
        "\n",
        "        # Removing prefixed 'b'\n",
        "        processed_feature = re.sub(r'^b\\s+', '', processed_feature)\n",
        "        \n",
        "        # Removing everything that has numbers \n",
        "        processed_feature = re.sub(r'\\w*\\d\\w*', '', processed_feature)\n",
        "\n",
        "        # Converting to Lowercase\n",
        "        processed_feature = processed_feature.lower()\n",
        "\n",
        "        processed_features.append(processed_feature)\n",
        "    return processed_features\n"
      ],
      "execution_count": 20,
      "outputs": []
    },
    {
      "cell_type": "markdown",
      "metadata": {
        "id": "AYpcj1tYVBnY",
        "colab_type": "text"
      },
      "source": [
        "Feature extraction function (same as in the practical session)."
      ]
    },
    {
      "cell_type": "code",
      "metadata": {
        "id": "2TvwziMgUs-c",
        "colab_type": "code",
        "colab": {}
      },
      "source": [
        "########### EXTRACT FEATURES ###########\n",
        "# We will use bag-of-words as features for training our classifiers. \n",
        "# In a bag-of-words approach, an algorithm counts the number of times a word appear in a document. \n",
        "# Each word in the entire collection of documents (corpus) became a feature in the feature vector, which results in a sparse vector.\n",
        "# Instead of count the \"number of times\" a word appear in a document, we can also use a binary approach (whether or not a word a appear in a document). \n",
        "# By default, we are using a binary bag-of-words approach: \n",
        "# if a word appears in a document it will receive 1 (0 otherwise)\n",
        "# you can change all these parameters below\n",
        "def extract_features(proc_train, proc_val, proc_test, binary=False, max_df=1.0, min_df=0.0, ngram_range=(1,1), sw=False):\n",
        "    stop_words=[]\n",
        "    if sw:\n",
        "        f = urlopen(\"https://raw.githubusercontent.com/lionfish0/discover_stem/master/stopwords.txt\").read()\n",
        "        stop_words = list(np.array(f.split(), dtype=str))\n",
        "\n",
        "    cv = CountVectorizer(binary=True, max_df=max_df, min_df=min_df, ngram_range=ngram_range, stop_words=stop_words)\n",
        "    cv.fit(proc_train)\n",
        "\n",
        "    #check the features outputted below\n",
        "    #each possible word in our pre-processed vector became a feature\n",
        "    #can we do better? \n",
        "    print(\"** Vocabulary size: %d\" % len(cv.get_feature_names()))\n",
        "    print(\"** Words:\")\n",
        "    #print(cv.get_feature_names())\n",
        "\n",
        "    #apply the model to all data splits\n",
        "    #can you think of any problems? \n",
        "    X_train = cv.transform(proc_train)\n",
        "    X_val = cv.transform(proc_val)\n",
        "    X_test = cv.transform(proc_test)\n",
        "    return X_train, X_val, X_test\n",
        "\n"
      ],
      "execution_count": 21,
      "outputs": []
    },
    {
      "cell_type": "markdown",
      "metadata": {
        "id": "LMmU17STVFzn",
        "colab_type": "text"
      },
      "source": [
        "Evaluation function (same as in the practical session).\n"
      ]
    },
    {
      "cell_type": "code",
      "metadata": {
        "id": "df3losFzUyYb",
        "colab_type": "code",
        "colab": {}
      },
      "source": [
        "########### EVALUATION ###########\n",
        "#just a function to print a nice confusion matrix\n",
        "def plot_confusion_matrix(y_true, y_pred, classes,\n",
        "                          normalize=False,\n",
        "                          title=None,\n",
        "                          cmap=plt.cm.Blues):\n",
        "    \"\"\"\n",
        "    This function prints and plots the confusion matrix.\n",
        "    Normalization can be applied by setting `normalize=True`.\n",
        "    \"\"\"\n",
        "    if not title:\n",
        "        if normalize:\n",
        "            title = 'Normalized confusion matrix'\n",
        "        else:\n",
        "            title = 'Confusion matrix, without normalization'\n",
        "\n",
        "    # Compute confusion matrix\n",
        "    cm = confusion_matrix(y_true, y_pred)\n",
        "    if normalize:\n",
        "        cm = cm.astype('float') / cm.sum(axis=1)[:, np.newaxis]\n",
        "\n",
        "    fig, ax = plt.subplots()\n",
        "    im = ax.imshow(cm, interpolation='nearest', cmap=cmap)\n",
        "    ax.figure.colorbar(im, ax=ax)\n",
        "    # We want to show all ticks...\n",
        "    ax.set(xticks=np.arange(cm.shape[1]),\n",
        "           yticks=np.arange(cm.shape[0]),\n",
        "           # ... and label them with the respective list entries\n",
        "           xticklabels=classes, yticklabels=classes,\n",
        "           title=title,\n",
        "           ylabel='True label',\n",
        "           xlabel='Predicted label')\n",
        "\n",
        "    # Rotate the tick labels and set their alignment.\n",
        "    plt.setp(ax.get_xticklabels(), rotation=45, ha=\"right\",\n",
        "             rotation_mode=\"anchor\")\n",
        "\n",
        "    # Loop over data dimensions and create text annotations.\n",
        "    fmt = '.2f' if normalize else 'd'\n",
        "    thresh = cm.max() * 0.8\n",
        "    for i in range(cm.shape[0]):\n",
        "        for j in range(cm.shape[1]):\n",
        "            ax.text(j, i, format(cm[i, j], fmt),\n",
        "                    ha=\"center\", va=\"center\",\n",
        "                      color=\"white\" if cm[i, j] > thresh else \"black\")\n",
        "    fig.tight_layout()\n",
        "    return ax\n",
        "class_names = ['0', '1', '2', '3', '4']\n",
        "np.set_printoptions(precision=2)\n",
        "\n",
        "#evaluation function\n",
        "def evaluate_classifier(y_test, y_pred):\n",
        "    print(\"*** Accuracy score: %.4f\\n\" % accuracy_score(y_test, y_pred))\n",
        "    ax = plot_confusion_matrix(y_test, y_pred, classes=class_names, normalize=True,\n",
        "                      title='Normalized confusion matrix')\n",
        "    plt.plot()\n"
      ],
      "execution_count": 22,
      "outputs": []
    },
    {
      "cell_type": "markdown",
      "metadata": {
        "id": "wt4bNxpRVWZY",
        "colab_type": "text"
      },
      "source": [
        "Code to create a .zip file for the predictions (answers) of our classifier. Please, see below how to download this file and how to upload it in the Codalab competition."
      ]
    },
    {
      "cell_type": "code",
      "metadata": {
        "id": "g9azGsXKU1cM",
        "colab_type": "code",
        "colab": {}
      },
      "source": [
        "########### CREATE ZIP FILE FOR CODALAB ###########\n",
        "#builds and lets you download the answer.zip file\n",
        "def create_zip (answers):\n",
        "  from zipfile import ZipFile\n",
        "  answertext = '\\n'.join(answers)\n",
        "  with open('answer.txt', 'w') as filehandle:\n",
        "      filehandle.write(answertext)\n",
        "  with ZipFile('answer.zip', 'w') as zipf:\n",
        "      zipf.write('answer.txt')    \n",
        "\n",
        "### only works in Chrome (apparently)\n",
        "  from google.colab import files\n",
        "  files.download('answer.zip') "
      ],
      "execution_count": 23,
      "outputs": []
    },
    {
      "cell_type": "markdown",
      "metadata": {
        "id": "oKs9XZcHXi1a",
        "colab_type": "text"
      },
      "source": [
        "<hr>\n",
        "\n",
        "# The Data\n",
        "\n",
        "To give you an idea of the dataset, we print the validation set with the labels (i.e. if positive or negative). Below, we also print the test set that does not contain labels."
      ]
    },
    {
      "cell_type": "code",
      "metadata": {
        "id": "HWVkO2WUP9hG",
        "colab_type": "code",
        "colab": {
          "base_uri": "https://localhost:8080/",
          "height": 255
        },
        "outputId": "d746fe81-9799-4338-9811-eb83383f5cdb"
      },
      "source": [
        "print(df_val)"
      ],
      "execution_count": 24,
      "outputs": [
        {
          "output_type": "stream",
          "text": [
            "                                                 review sentiment\n",
            "0     First off I want to say that I lean liberal on...  negative\n",
            "1     I was excited to see a sitcom that would hopef...  negative\n",
            "2     When you look at the cover and read stuff abou...  negative\n",
            "3     Like many others, I counted on the appearance ...  negative\n",
            "4     This movie was on t.v the other day, and I did...  negative\n",
            "...                                                 ...       ...\n",
            "9995  I thought this movie did a down right good job...  positive\n",
            "9996  Bad plot, bad dialogue, bad acting, idiotic di...  negative\n",
            "9997  I am a Catholic taught in parochial elementary...  negative\n",
            "9998  I'm going to have to disagree with the previou...  negative\n",
            "9999  No one expects the Star Trek movies to be high...  negative\n",
            "\n",
            "[10000 rows x 2 columns]\n"
          ],
          "name": "stdout"
        }
      ]
    },
    {
      "cell_type": "code",
      "metadata": {
        "id": "4xE3o41lzPB7",
        "colab_type": "code",
        "colab": {
          "base_uri": "https://localhost:8080/",
          "height": 255
        },
        "outputId": "1325b6c3-043b-4b2f-8aad-9857b20d100a"
      },
      "source": [
        "print(df_test)"
      ],
      "execution_count": 25,
      "outputs": [
        {
          "output_type": "stream",
          "text": [
            "                                                 review\n",
            "0     One of the other reviewers has mentioned that ...\n",
            "1     A wonderful little production. <br /><br />The...\n",
            "2     I thought this was a wonderful way to spend ti...\n",
            "3     Basically there's a family where a little boy ...\n",
            "4     Petter Mattei's \"Love in the Time of Money\" is...\n",
            "...                                                 ...\n",
            "9995  Fun, entertaining movie about WWII German spy ...\n",
            "9996  Give me a break. How can anyone say that this ...\n",
            "9997  This movie is a bad movie. But after watching ...\n",
            "9998  This is a movie that was probably made to ente...\n",
            "9999  Smashing film about film-making. Shows the int...\n",
            "\n",
            "[10000 rows x 1 columns]\n"
          ],
          "name": "stdout"
        }
      ]
    },
    {
      "cell_type": "markdown",
      "metadata": {
        "id": "y-RSC5OHkezC",
        "colab_type": "text"
      },
      "source": [
        "# Example Classifier 1\n",
        "\n",
        "In this example we assign *positive* and *negative*, e.g. `['positive','positive','negative','positive','negative'...]`.  This list is based in the size of the review (so, a very naive solution)."
      ]
    },
    {
      "cell_type": "code",
      "metadata": {
        "id": "VkSF8r9NSrh0",
        "colab_type": "code",
        "colab": {
          "base_uri": "https://localhost:8080/",
          "height": 331
        },
        "outputId": "6e7c1a24-5835-4935-a7c7-9930194d68ea"
      },
      "source": [
        "#in this very simple classifier we just test if one of five 'positive' words are in the review.\n",
        "#please note that we are using the validation set here (since we can evaluate using it!)\n",
        "naive_classifier = []\n",
        "for t in df_val['review']:\n",
        "  if np.any([substr in t.lower() for substr in ['best','wonderful','good','favourite','great','fun','family']]):\n",
        "    naive_classifier.append('positive')\n",
        "  else:\n",
        "    naive_classifier.append('negative')\n",
        "\n",
        "#we can evaluate how good this approach is (using the validation set)\n",
        "evaluate_classifier(df_val['sentiment'], naive_classifier)\n",
        "\n",
        "#uncomment to generate answers for test data for submission to codalab using this classifier.\n",
        "naive_classifier_on_test = []\n",
        "for t in df_test['review']:\n",
        "  if np.any([substr in t.lower() for substr in ['best','wonderful','good','favourite','great']]):\n",
        "    naive_classifier_on_test.append('positive')\n",
        "  else:\n",
        "    naive_classifier_on_test.append('negative')\n",
        "#create_zip(naive_classifier_on_test)"
      ],
      "execution_count": 26,
      "outputs": [
        {
          "output_type": "stream",
          "text": [
            "*** Accuracy score: 0.5684\n",
            "\n"
          ],
          "name": "stdout"
        },
        {
          "output_type": "display_data",
          "data": {
            "image/png": "[encoded data removed]",
            "text/plain": [
              "<Figure size 432x288 with 2 Axes>"
            ]
          },
          "metadata": {
            "tags": [],
            "needs_background": "light"
          }
        }
      ]
    },
    {
      "cell_type": "markdown",
      "metadata": {
        "id": "2jbHydbkDJ-l",
        "colab_type": "text"
      },
      "source": [
        "# Example Classifier 2\n",
        "\n",
        "Similar to our practical session, you have available the functions for data pre-processing and feature extraction.\n",
        "\n",
        "Below there is an example on how to run them and how to train a sklearn classifier. \n"
      ]
    },
    {
      "cell_type": "code",
      "metadata": {
        "id": "tCCdAzJxXGUT",
        "colab_type": "code",
        "colab": {
          "base_uri": "https://localhost:8080/",
          "height": 51
        },
        "outputId": "1fab2180-e891-4f11-c60f-90fe51274e45"
      },
      "source": [
        "# apply pre_proc() function to all data splits\n",
        "proc_train = pre_proc(df_train['review'])\n",
        "proc_val = pre_proc(df_val['review'])\n",
        "proc_test = pre_proc(df_test['review'])\n",
        "\n",
        "# call extract_features() to extract features\n",
        "# you can play with the parameters of this function do generate different feature vectors:\n",
        "### binary = True --> means that it will create a binary vector (either a word appears in a review or not)\n",
        "###          changing it to False will use frequencies (how many times a word appears in a review)\n",
        "###          it will also normalise it. \n",
        "### max_df = ignore terms that have a frequency higher than the value assigned (1.0 means no term is discarded)\n",
        "### min_df = ignore terms that have a frequency lower than the value assigned (0.0 means no term is discarded)\n",
        "### ngram_range = range of the n_grams. If (1,1) only single words are considered. If (1,2) single words and 2-word groups are considered\n",
        "###               If (1,3) single words, 2-word, and 3-word groups are considered. Be careful because this can create far too many positions in your vector!\n",
        "### sw = if True, it will use a pre-defined stopwords list to filter out some terms.  \n",
        "X_train, X_val, X_test = extract_features(proc_train, proc_val, proc_test, binary=True, max_df=10.0, min_df=0.0, ngram_range=(1,1), sw=False)\n",
        "\n",
        "# extract labels\n",
        "y_train = df_train['sentiment']\n",
        "y_val = df_val['sentiment']\n",
        "y_test = df_val['sentiment']"
      ],
      "execution_count": 27,
      "outputs": [
        {
          "output_type": "stream",
          "text": [
            "** Vocabulary size: 80566\n",
            "** Words:\n"
          ],
          "name": "stdout"
        }
      ]
    },
    {
      "cell_type": "code",
      "metadata": {
        "id": "HJxDnzCX6d5v",
        "colab_type": "code",
        "colab": {}
      },
      "source": [
        "# example of a sklearn classifier (you can try with other examples from the practical session)\n",
        "# in the first code block here we also import several others classifiers available in sklearn\n",
        "# they all follow the same structure:\n",
        "## 1-) create an instance of the classifier (e.g. kkn = NeighborsClassifier())\n",
        "## 2-) train the model using the training data (e.g. knn.fit(X_train, y_train))\n",
        "## 3-) generate predictions for the test set (e.g. preds = knn.predict(X_test))\n",
        "## more information about sklearn classifiers: https://scikit-learn.org/stable/supervised_learning.html\n",
        "knn = KNeighborsClassifier()\n",
        "knn.fit(X_train, y_train)\n",
        "knn_preds_val = knn.predict(X_val)"
      ],
      "execution_count": 28,
      "outputs": []
    },
    {
      "cell_type": "code",
      "metadata": {
        "id": "EP6l0GfkExKA",
        "colab_type": "code",
        "colab": {
          "base_uri": "https://localhost:8080/",
          "height": 569
        },
        "outputId": "b30a4b5f-b80b-4ac8-a850-f3d83ce20bb4"
      },
      "source": [
        "# evaluating the model in the validation set (you do not have gold values for test set here!)\n",
        "print(\"Predicted values for the validation set:\")\n",
        "print(knn_preds_val)\n",
        "evaluate_classifier(y_val, knn_preds_val)\n",
        "print(y_val)"
      ],
      "execution_count": 29,
      "outputs": [
        {
          "output_type": "stream",
          "text": [
            "Predicted values for the validation set:\n",
            "['negative' 'negative' 'negative' ... 'negative' 'negative' 'negative']\n",
            "*** Accuracy score: 0.6118\n",
            "\n",
            "0       negative\n",
            "1       negative\n",
            "2       negative\n",
            "3       negative\n",
            "4       negative\n",
            "          ...   \n",
            "9995    positive\n",
            "9996    negative\n",
            "9997    negative\n",
            "9998    negative\n",
            "9999    negative\n",
            "Name: sentiment, Length: 10000, dtype: object\n"
          ],
          "name": "stdout"
        },
        {
          "output_type": "display_data",
          "data": {
            "image/png": "[encoded data removed]",
            "text/plain": [
              "<Figure size 432x288 with 2 Axes>"
            ]
          },
          "metadata": {
            "tags": [],
            "needs_background": "light"
          }
        }
      ]
    },
    {
      "cell_type": "code",
      "metadata": {
        "id": "LJDmxgHxE2wm",
        "colab_type": "code",
        "colab": {
          "base_uri": "https://localhost:8080/",
          "height": 51
        },
        "outputId": "9950f77b-9fbd-4e46-f23b-76cd342e6237"
      },
      "source": [
        "# predicting the test set\n",
        "#we can't assess how well these have done in this notebook for that we\n",
        "#will have to submit them to the codalab competition system (see below)\n",
        "knn_preds_test = knn.predict(X_test)\n",
        "\n",
        "print(\"Predicted values for the test set:\")\n",
        "print(knn_preds_test)"
      ],
      "execution_count": 30,
      "outputs": [
        {
          "output_type": "stream",
          "text": [
            "Predicted values for the test set:\n",
            "['negative' 'positive' 'positive' ... 'negative' 'negative' 'negative']\n"
          ],
          "name": "stdout"
        }
      ]
    },
    {
      "cell_type": "markdown",
      "metadata": {
        "id": "ykAe8vvRFF37",
        "colab_type": "text"
      },
      "source": [
        "# Save predictions\n",
        "\n",
        "You next need to submit these 10,000 predictions to the Codalab competition. To do that we need to save these predictions to a file and then [upload it to the competition server](https://competitions.codalab.org/competitions/25363#participate-submit_results). On that page click on 'Submit' to upload the ```answer.zip``` file. You will need an account on codalab to submit your results ([sign up](https://competitions.codalab.org/accounts/signup/)).\n",
        "\n",
        "We have written a function, ```create_zip```, to create this file. In particular,\n",
        "- The file uploaded is called ```answer.zip``` and contains one file called ```answer.txt```.\n",
        "- ```answer.txt``` contains one prediction per line (either 'positive' or 'negative').\n",
        "\n",
        "When you run the ```create_zip()``` function, it should ask you to download the file to your computer. If this doesn't work you will need to download it via the colab files interface (see end of notebook for more details).\n",
        "\n",
        "Please note that:\n",
        "1.   the submission system only works with the format that we have described above. If you are using another machine learning technique that does not output a list of 'positive' or 'negative' lines you will need to write code to convert to this format.\n",
        "\n",
        "2.   Every time you run the ```create_zip()``` function you will overwrite any other ```answer.zip``` file that you have in this colab environment. Please save any different files in your local computer and keep control of your different versions (see below how to download the .zip file to your computer).\n"
      ]
    },
    {
      "cell_type": "code",
      "metadata": {
        "id": "eIMYAcvw4dv0",
        "colab_type": "code",
        "colab": {
          "base_uri": "https://localhost:8080/",
          "height": 17
        },
        "outputId": "fa7e921a-f13c-4460-99a3-eb8a80bc9b44"
      },
      "source": [
        "#Convert the 'knn_preds_test' array of 'negative' and\n",
        "#'positive's into an answer.zip file. This will also\n",
        "#try to allow you to download the file. \n",
        "create_zip(knn_preds_test)"
      ],
      "execution_count": 31,
      "outputs": [
        {
          "output_type": "display_data",
          "data": {
            "application/javascript": [
              "\n",
              "    async function download(id, filename, size) {\n",
              "      if (!google.colab.kernel.accessAllowed) {\n",
              "        return;\n",
              "      }\n",
              "      const div = document.createElement('div');\n",
              "      const label = document.createElement('label');\n",
              "      label.textContent = `Downloading \"${filename}\": `;\n",
              "      div.appendChild(label);\n",
              "      const progress = document.createElement('progress');\n",
              "      progress.max = size;\n",
              "      div.appendChild(progress);\n",
              "      document.body.appendChild(div);\n",
              "\n",
              "      const buffers = [];\n",
              "      let downloaded = 0;\n",
              "\n",
              "      const channel = await google.colab.kernel.comms.open(id);\n",
              "      // Send a message to notify the kernel that we're ready.\n",
              "      channel.send({})\n",
              "\n",
              "      for await (const message of channel.messages) {\n",
              "        // Send a message to notify the kernel that we're ready.\n",
              "        channel.send({})\n",
              "        if (message.buffers) {\n",
              "          for (const buffer of message.buffers) {\n",
              "            buffers.push(buffer);\n",
              "            downloaded += buffer.byteLength;\n",
              "            progress.value = downloaded;\n",
              "          }\n",
              "        }\n",
              "      }\n",
              "      const blob = new Blob(buffers, {type: 'application/binary'});\n",
              "      const a = document.createElement('a');\n",
              "      a.href = window.URL.createObjectURL(blob);\n",
              "      a.download = filename;\n",
              "      div.appendChild(a);\n",
              "      a.click();\n",
              "      div.remove();\n",
              "    }\n",
              "  "
            ],
            "text/plain": [
              "<IPython.core.display.Javascript object>"
            ]
          },
          "metadata": {
            "tags": []
          }
        },
        {
          "output_type": "display_data",
          "data": {
            "application/javascript": [
              "download(\"download_6514e978-e4fc-4d39-a330-c30b6f083f8d\", \"answer.zip\", 90117)"
            ],
            "text/plain": [
              "<IPython.core.display.Javascript object>"
            ]
          },
          "metadata": {
            "tags": []
          }
        }
      ]
    },
    {
      "cell_type": "markdown",
      "metadata": {
        "id": "mKJVuYTxlOTZ",
        "colab_type": "text"
      },
      "source": [
        "# Your Classifier\n",
        "\n",
        "You need to write your own classifier here!"
      ]
    },
    {
      "cell_type": "code",
      "metadata": {
        "id": "DYLI0y0slSfH",
        "colab_type": "code",
        "colab": {
          "base_uri": "https://localhost:8080/",
          "height": 732
        },
        "outputId": "09ad37e7-8181-46c2-8caf-5099d2f6dae4"
      },
      "source": [
        "\n",
        "############################## preparing data\n",
        "\n",
        "# apply pre_proc() function to all data splits\n",
        "proc_train = pre_proc(df_train['review'])\n",
        "proc_val = pre_proc(df_val['review'])\n",
        "proc_test = pre_proc(df_test['review'])\n",
        "\n",
        "#extract features\n",
        "X_train, X_val, X_test = extract_features(proc_train, proc_val, proc_test, binary=False, max_df=10.0, min_df=0.0, ngram_range=(1,2), sw=False)\n",
        "\n",
        "# extract pre-known sentiment labels (used for training and evaluation)\n",
        "y_train = df_train['sentiment']\n",
        "y_val = df_val['sentiment']\n",
        "\n",
        "############################ finds best parameter c for the logistic regression (based on evaluation set)\n",
        "\n",
        "def optimise_C(X_train, y_train, X_val, y_val, C=[0.01, 0.025, 0.05, 0.25, 0.5, 1.0]):\n",
        "    #optimise the parameter C using the validation data\n",
        "    best_acc = 0.\n",
        "    best_c = 0.\n",
        "    accuracies = []\n",
        "    for c in C:\n",
        "    \n",
        "        lr = LogisticRegression(C=c, multi_class='auto', solver='liblinear')\n",
        "        lr.fit(X_train, y_train)\n",
        "        cur_acc = accuracy_score(y_val, lr.predict(X_val))\n",
        "        print (\"Accuracy for C=%s: %s\" % (c, cur_acc))\n",
        "        accuracies.append(cur_acc)\n",
        "        if cur_acc > best_acc:\n",
        "            best_c = c\n",
        "            best_acc = cur_acc\n",
        "\n",
        "    print (\"*** Best accuracy = %f, best C = %f\" % (best_acc, best_c))\n",
        "    plt.plot(np.array(C).astype('str'), accuracies, 'ro')\n",
        "    return best_c\n",
        "\n",
        "#apply the above function\n",
        "ngram11_C=[0.0745, 0.075, 0.07525, 0.0754, 0.0755, 0.08, 0.09, 0.10, 0.25] #best c values for ngram_range 1,1\n",
        "ngram12_C=[0.07,0.08,0.09, 0.10, 0.11,0.17] #best c values for ngram_range 1,2\n",
        "ngram13_C=[0.3,0.325,0.35,0.375,0.4] #best c values for ngram_range 1,3\n",
        "best_c = optimise_C(X_train, y_train, X_val, y_val, C=[0.07,0.08,0.09, 0.10, 0.11,0.17])\n",
        "\n",
        "################################# validation set evaluation\n",
        "\n",
        "lr = LogisticRegression(C=best_c, multi_class='auto', solver='liblinear')\n",
        "lr.fit(X_train, y_train) #fits model according to training data\n",
        "lr_preds = lr.predict(X_val) #predict class labels \n",
        "evaluate_classifier(y_val, lr_preds)\n",
        "\n",
        "################################# test set predictions\n",
        "\n",
        "lrt = LogisticRegression(C=best_c,multi_class='auto', solver='liblinear')\n",
        "lrt.fit(X_train,y_train)\n",
        "lrt_preds=lrt.predict(X_test)\n",
        "\n",
        "################################create zip\n",
        "create_zip(lrt_preds)\n"
      ],
      "execution_count": 32,
      "outputs": [
        {
          "output_type": "stream",
          "text": [
            "** Vocabulary size: 5846668\n",
            "** Words:\n",
            "Accuracy for C=0.07: 0.8777\n",
            "Accuracy for C=0.08: 0.8777\n",
            "Accuracy for C=0.09: 0.8779\n",
            "Accuracy for C=0.1: 0.8777\n",
            "Accuracy for C=0.11: 0.8781\n",
            "Accuracy for C=0.17: 0.879\n",
            "*** Best accuracy = 0.879000, best C = 0.170000\n",
            "*** Accuracy score: 0.8790\n",
            "\n"
          ],
          "name": "stdout"
        },
        {
          "output_type": "display_data",
          "data": {
            "application/javascript": [
              "\n",
              "    async function download(id, filename, size) {\n",
              "      if (!google.colab.kernel.accessAllowed) {\n",
              "        return;\n",
              "      }\n",
              "      const div = document.createElement('div');\n",
              "      const label = document.createElement('label');\n",
              "      label.textContent = `Downloading \"${filename}\": `;\n",
              "      div.appendChild(label);\n",
              "      const progress = document.createElement('progress');\n",
              "      progress.max = size;\n",
              "      div.appendChild(progress);\n",
              "      document.body.appendChild(div);\n",
              "\n",
              "      const buffers = [];\n",
              "      let downloaded = 0;\n",
              "\n",
              "      const channel = await google.colab.kernel.comms.open(id);\n",
              "      // Send a message to notify the kernel that we're ready.\n",
              "      channel.send({})\n",
              "\n",
              "      for await (const message of channel.messages) {\n",
              "        // Send a message to notify the kernel that we're ready.\n",
              "        channel.send({})\n",
              "        if (message.buffers) {\n",
              "          for (const buffer of message.buffers) {\n",
              "            buffers.push(buffer);\n",
              "            downloaded += buffer.byteLength;\n",
              "            progress.value = downloaded;\n",
              "          }\n",
              "        }\n",
              "      }\n",
              "      const blob = new Blob(buffers, {type: 'application/binary'});\n",
              "      const a = document.createElement('a');\n",
              "      a.href = window.URL.createObjectURL(blob);\n",
              "      a.download = filename;\n",
              "      div.appendChild(a);\n",
              "      a.click();\n",
              "      div.remove();\n",
              "    }\n",
              "  "
            ],
            "text/plain": [
              "<IPython.core.display.Javascript object>"
            ]
          },
          "metadata": {
            "tags": []
          }
        },
        {
          "output_type": "display_data",
          "data": {
            "application/javascript": [
              "download(\"download_4f5d0611-4ae6-48d3-92f7-c9abc6f2569f\", \"answer.zip\", 90117)"
            ],
            "text/plain": [
              "<IPython.core.display.Javascript object>"
            ]
          },
          "metadata": {
            "tags": []
          }
        },
        {
          "output_type": "display_data",
          "data": {
            "image/png": "[encoded data removed]",
            "text/plain": [
              "<Figure size 432x288 with 1 Axes>"
            ]
          },
          "metadata": {
            "tags": [],
            "needs_background": "light"
          }
        },
        {
          "output_type": "display_data",
          "data": {
            "image/png": "[encoded data removed]",
            "text/plain": [
              "<Figure size 432x288 with 2 Axes>"
            ]
          },
          "metadata": {
            "tags": [],
            "needs_background": "light"
          }
        }
      ]
    },
    {
      "cell_type": "markdown",
      "metadata": {
        "id": "G3h-YntlIX9Y",
        "colab_type": "text"
      },
      "source": [
        "# Saving the Zip file in your computer\n",
        "\n",
        "Hopefully the ```create_zip()``` function let you download the ```answer.zip``` file. If it didn't you will need to download the file using the colab interface. On the left hand side of this colab environment, you should see a icon tha looks like a folder (![files](https://github.com/carolscarton/headstart/raw/master/figures/folder.png)). By clicking on it you should see the file structure below (or something similar):\n",
        "\n",
        "![alt text](https://github.com/carolscarton/headstart/raw/master/figures/file_structure.png)\n",
        "\n",
        "You should then pass the mouse on top of the file \"answer.zip\" and click in the menu that appears in the right hand side. The first option is to download the file to your computer:\n",
        "\n",
        "![alt text](https://github.com/carolscarton/headstart/raw/master/figures/download.png)\n",
        "\n"
      ]
    },
    {
      "cell_type": "code",
      "metadata": {
        "id": "MbUQP381uZkA",
        "colab_type": "code",
        "colab": {}
      },
      "source": [
        ""
      ],
      "execution_count": 32,
      "outputs": []
    }
  ]
}