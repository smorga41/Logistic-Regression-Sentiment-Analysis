{
  "nbformat": 4,
  "nbformat_minor": 0,
  "metadata": {
    "colab": {
      "name": "LogisticRegression_SentimentAnalysis.ipynb",
      "provenance": [],
      "collapsed_sections": [],
      "toc_visible": true,
      "include_colab_link": true
    },
    "kernelspec": {
      "name": "python3",
      "display_name": "Python 3"
    },
    "accelerator": "GPU"
  },
  "cells": [
    {
      "cell_type": "markdown",
      "metadata": {
        "id": "view-in-github",
        "colab_type": "text"
      },
      "source": [
        "<a href=\"https://colab.research.google.com/github/smorga41/Logistic-Regression-Sentiment-Analysis/blob/master/LogisticRegression_SentimentAnalysis.ipynb\" target=\"_parent\"><img src=\"https://colab.research.google.com/assets/colab-badge.svg\" alt=\"Open In Colab\"/></a>"
      ]
    },
    {
      "cell_type": "code",
      "metadata": {
        "id": "7Q1IMYO7JCal"
      },
      "source": [
        ""
      ],
      "execution_count": null,
      "outputs": []
    },
    {
      "cell_type": "markdown",
      "metadata": {
        "id": "bNtLtMnzTaAI"
      },
      "source": [
        "#IMDB reviews sentiment analysis project\n",
        "\n",
        "In this project my aim is to build a machine learning model able to classify movie reviews into *positive* or *negative*, extracting information from the text of the review. This task is known as **Sentiment Analysis**, where you need to identify the sentiment of a text.\n",
        "\n",
        "Data has been downloaded from [Kaggle](https://www.kaggle.com/lakshmi25npathi/imdb-dataset-of-50k-movie-reviews), however, the original data is available [here](http://ai.stanford.edu/~amaas/data/sentiment/). \n",
        "\n",
        "i Have split data into 3 groups:\n",
        "- training data: 30,000 reviews annotated with *positive* and *negative* labels;\n",
        "- validation data: 10,000 reviews annotated with *positive* and *negative* labels;\n",
        "- test data: 10,000 reviews un-labelled for which i will predict labels for (i submitted my predictions for this test data to the competition server where my attempt will be graded). \n",
        "\n",
        "The program will guess whether each review should be labelled as positive or negative. \n",
        "\n",
        "For humans it is quite easy to do. For example one review starts: \"i can't believe how dumb this movie truly is.\" which we would rightly assign as being a negative review, but can we program a computer to guess?\n",
        "\n"
      ]
    },
    {
      "cell_type": "markdown",
      "metadata": {
        "id": "r_O1lCWxcQtw"
      },
      "source": [
        "## Modules, Functions and Downloads\n",
        "\n",
        "The following few cells import useful modules, download the datasets and provide a series of useful functions. "
      ]
    },
    {
      "cell_type": "code",
      "metadata": {
        "id": "c_VspJfDScrk"
      },
      "source": [
        "#useful python librarys\n",
        "import numpy as np\n",
        "import urllib.request\n",
        "from urllib.request import urlopen\n",
        "import re\n",
        "from zipfile import ZipFile\n",
        "from google.colab import files\n",
        "import warnings\n",
        "warnings.filterwarnings('ignore')\n",
        "import matplotlib.pyplot as plt\n",
        "%matplotlib inline\n",
        "import pandas as pd\n",
        "\n",
        "#classifiers from sklearn. More options here: https://scikit-learn.org/stable/supervised_learning.html#supervised-learning\n",
        "from sklearn.linear_model import LogisticRegression #Logistic regression classifier: https://scikit-learn.org/stable/modules/linear_model.html#logistic-regression\n",
        "from sklearn.neighbors import KNeighborsClassifier #K-neareast neighbors classifier: https://scikit-learn.org/stable/modules/neighbors.html#nearest-neighbors-classification\n",
        "from sklearn.dummy import DummyClassifier #Dummy classifier (majority class): https://scikit-learn.org/stable/modules/generated/sklearn.dummy.DummyClassifier.html\n",
        "from sklearn.naive_bayes import GaussianNB #Naive Bayes classifier: https://scikit-learn.org/stable/modules/naive_bayes.html#gaussian-naive-bayes\n",
        "from sklearn.tree import DecisionTreeClassifier #Decision tree classifier: https://scikit-learn.org/stable/modules/tree.html#classification\n",
        "from sklearn.ensemble import RandomForestClassifier #Random Forests classifier: https://scikit-learn.org/stable/modules/ensemble.html#forests-of-randomized-trees\n",
        "from sklearn.neural_network import MLPClassifier #Multi-layer perceptron classifier: https://scikit-learn.org/stable/modules/neural_networks_supervised.html#classification\n",
        "\n",
        "#pre-processing and feature extraction\n",
        "from nltk.corpus import stopwords\n",
        "from sklearn.feature_extraction.text import TfidfVectorizer\n",
        "from sklearn.feature_extraction.text import CountVectorizer\n",
        "\n",
        "#evaluation\n",
        "from sklearn.metrics import accuracy_score, confusion_matrix"
      ],
      "execution_count": 2,
      "outputs": []
    },
    {
      "cell_type": "markdown",
      "metadata": {
        "id": "WAXAXfd8VLZx"
      },
      "source": [
        "This cell loads the data in the correct splits for the project. "
      ]
    },
    {
      "cell_type": "code",
      "metadata": {
        "id": "ng1R6cATWmJ6"
      },
      "source": [
        "### DO NOT change this part ###\n",
        "\n",
        "#loading datasets\n",
        "df_test = pd.read_csv('https://github.com/carolscarton/headstart/raw/master/data/hs2020_imdb_test.csv')\n",
        "df_val = pd.read_csv('https://github.com/carolscarton/headstart/raw/master/data/hs2020_imdb_val.csv')\n",
        "df_train = pd.read_csv('https://github.com/carolscarton/headstart/raw/master/data/hs2020_imdb_train.csv')"
      ],
      "execution_count": 3,
      "outputs": []
    },
    {
      "cell_type": "markdown",
      "metadata": {
        "id": "CwY-ftmxU4ci"
      },
      "source": [
        "Pre-processing function."
      ]
    },
    {
      "cell_type": "code",
      "metadata": {
        "id": "Du7z57z8Rpx6"
      },
      "source": [
        ""
      ],
      "execution_count": 3,
      "outputs": []
    },
    {
      "cell_type": "code",
      "metadata": {
        "id": "Glbo_A3FJkDx"
      },
      "source": [
        "########### PRE-PROCESSING ###########\n",
        "#Pre-processing the reviews\n",
        "#normalise words, remove punctuation, remove extra spaces, etc\n",
        "def pre_proc(features):\n",
        "    processed_features = []\n",
        "    for sentence in range(0, len(features)):\n",
        "        # Remove all tags (like <br />)\n",
        "        processed_feature = re.sub(r'<.*?>', ' ', str(features[sentence]))\n",
        "\n",
        "        #Remove all special characters\n",
        "        processed_feature = re.sub(r'[^a-zA-Z0-9]', ' ', processed_feature)\n",
        "\n",
        "        # Substituting multiple spaces with single space\n",
        "        processed_feature = re.sub(r'\\s+', ' ', processed_feature, flags=re.I)\n",
        "\n",
        "        # Removing prefixed 'b'\n",
        "        processed_feature = re.sub(r'^b\\s+', '', processed_feature)\n",
        "        \n",
        "        # Removing everything that has numbers \n",
        "        processed_feature = re.sub(r'\\w*\\d\\w*', '', processed_feature)\n",
        "\n",
        "        # Converting to Lowercase\n",
        "        processed_feature = processed_feature.lower()\n",
        "\n",
        "        processed_features.append(processed_feature)\n",
        "    return processed_features\n"
      ],
      "execution_count": 4,
      "outputs": []
    },
    {
      "cell_type": "markdown",
      "metadata": {
        "id": "AYpcj1tYVBnY"
      },
      "source": [
        "Feature extraction function."
      ]
    },
    {
      "cell_type": "code",
      "metadata": {
        "id": "2TvwziMgUs-c"
      },
      "source": [
        "########### EXTRACT FEATURES ###########\n",
        "# I will use bag-of-words as features for training our classifiers. \n",
        "# In a bag-of-words approach, an algorithm counts the number of times a word appear in a document. \n",
        "# Each word in the entire collection of documents (corpus) became a feature in the feature vector, which results in a sparse vector.\n",
        "# Instead of count the \"number of times\" a word appear in a document, we can also use a binary approach (whether or not a word a appear in a document). \n",
        "# if a word appears in a document it will receive 1 (0 otherwise)\n",
        "def extract_features(proc_train, proc_val, proc_test, binary=False, max_df=1.0, min_df=0.0, ngram_range=(1,1), sw=False):\n",
        "    stop_words=[]\n",
        "    if sw:\n",
        "        f = urlopen(\"https://raw.githubusercontent.com/lionfish0/discover_stem/master/stopwords.txt\").read()\n",
        "        stop_words = list(np.array(f.split(), dtype=str))\n",
        "\n",
        "    cv = CountVectorizer(binary=True, max_df=max_df, min_df=min_df, ngram_range=ngram_range, stop_words=stop_words)\n",
        "    cv.fit(proc_train)\n",
        "\n",
        "    #check the features outputted below\n",
        "    #each possible word in our pre-processed vector became a feature\n",
        "    print(\"** Vocabulary size: %d\" % len(cv.get_feature_names()))\n",
        "    print(\"** Words:\")\n",
        "    #print(cv.get_feature_names()) #causes error with colab bandwidth limits\n",
        "\n",
        "    #apply the model to all data splits\n",
        "    X_train = cv.transform(proc_train)\n",
        "    X_val = cv.transform(proc_val)\n",
        "    X_test = cv.transform(proc_test)\n",
        "    return X_train, X_val, X_test\n",
        "\n"
      ],
      "execution_count": 5,
      "outputs": []
    },
    {
      "cell_type": "markdown",
      "metadata": {
        "id": "LMmU17STVFzn"
      },
      "source": [
        "Evaluation function.\n",
        "\n",
        "1.   List item\n",
        "2.   List item\n",
        "\n",
        "\n"
      ]
    },
    {
      "cell_type": "code",
      "metadata": {
        "id": "df3losFzUyYb"
      },
      "source": [
        "########### EVALUATION ###########\n",
        "#a function to print a confusion matrix\n",
        "def plot_confusion_matrix(y_true, y_pred, classes,\n",
        "                          normalize=False,\n",
        "                          title=None,\n",
        "                          cmap=plt.cm.Blues):\n",
        "    \"\"\"\n",
        "    This function prints and plots the confusion matrix.\n",
        "    Normalization can be applied by setting `normalize=True`.\n",
        "    \"\"\"\n",
        "    if not title:\n",
        "        if normalize:\n",
        "            title = 'Normalized confusion matrix'\n",
        "        else:\n",
        "            title = 'Confusion matrix, without normalization'\n",
        "\n",
        "    # Compute confusion matrix\n",
        "    cm = confusion_matrix(y_true, y_pred)\n",
        "    if normalize:\n",
        "        cm = cm.astype('float') / cm.sum(axis=1)[:, np.newaxis]\n",
        "\n",
        "    fig, ax = plt.subplots()\n",
        "    im = ax.imshow(cm, interpolation='nearest', cmap=cmap)\n",
        "    ax.figure.colorbar(im, ax=ax)\n",
        "    # We want to show all ticks...\n",
        "    ax.set(xticks=np.arange(cm.shape[1]),\n",
        "           yticks=np.arange(cm.shape[0]),\n",
        "           # ... and label them with the respective list entries\n",
        "           xticklabels=classes, yticklabels=classes,\n",
        "           title=title,\n",
        "           ylabel='True label',\n",
        "           xlabel='Predicted label')\n",
        "\n",
        "    # Rotate the tick labels and set their alignment.\n",
        "    plt.setp(ax.get_xticklabels(), rotation=45, ha=\"right\",\n",
        "             rotation_mode=\"anchor\")\n",
        "\n",
        "    # Loop over data dimensions and create text annotations.\n",
        "    fmt = '.2f' if normalize else 'd'\n",
        "    thresh = cm.max() * 0.8\n",
        "    for i in range(cm.shape[0]):\n",
        "        for j in range(cm.shape[1]):\n",
        "            ax.text(j, i, format(cm[i, j], fmt),\n",
        "                    ha=\"center\", va=\"center\",\n",
        "                      color=\"white\" if cm[i, j] > thresh else \"black\")\n",
        "    fig.tight_layout()\n",
        "    return ax\n",
        "class_names = ['0', '1', '2', '3', '4']\n",
        "np.set_printoptions(precision=2)\n",
        "\n",
        "#evaluation function\n",
        "def evaluate_classifier(y_test, y_pred):\n",
        "    print(\"*** Accuracy score: %.4f\\n\" % accuracy_score(y_test, y_pred))\n",
        "    ax = plot_confusion_matrix(y_test, y_pred, classes=class_names, normalize=True,\n",
        "                      title='Normalized confusion matrix')\n",
        "    plt.plot()\n"
      ],
      "execution_count": 6,
      "outputs": []
    },
    {
      "cell_type": "markdown",
      "metadata": {
        "id": "wt4bNxpRVWZY"
      },
      "source": [
        "Code to create a .zip file for the predictions (answers) of the classifier. "
      ]
    },
    {
      "cell_type": "code",
      "metadata": {
        "id": "g9azGsXKU1cM"
      },
      "source": [
        "########### CREATE ZIP FILE FOR CODALAB ###########\n",
        "#builds and lets you download the answer.zip file\n",
        "def create_zip (answers):\n",
        "  from zipfile import ZipFile\n",
        "  answertext = '\\n'.join(answers)\n",
        "  with open('answer.txt', 'w') as filehandle:\n",
        "      filehandle.write(answertext)\n",
        "  with ZipFile('answer.zip', 'w') as zipf:\n",
        "      zipf.write('answer.txt')    \n",
        "\n",
        "### only works in Chrome (apparently)\n",
        "  from google.colab import files\n",
        "  files.download('answer.zip') "
      ],
      "execution_count": 7,
      "outputs": []
    },
    {
      "cell_type": "markdown",
      "metadata": {
        "id": "oKs9XZcHXi1a"
      },
      "source": [
        "<hr>\n",
        "\n",
        "# The Data\n",
        "\n",
        "To give an example of the dataset, i have printed the validation set with the labels (i.e. if positive or negative). Below, I have also printed the test set that does not contain labels."
      ]
    },
    {
      "cell_type": "code",
      "metadata": {
        "id": "HWVkO2WUP9hG",
        "outputId": "7d83b55a-1cb2-4c09-e0fc-26085022dca1",
        "colab": {
          "base_uri": "https://localhost:8080/",
          "height": 265
        }
      },
      "source": [
        "print(df_val)"
      ],
      "execution_count": 8,
      "outputs": [
        {
          "output_type": "stream",
          "text": [
            "                                                 review sentiment\n",
            "0     First off I want to say that I lean liberal on...  negative\n",
            "1     I was excited to see a sitcom that would hopef...  negative\n",
            "2     When you look at the cover and read stuff abou...  negative\n",
            "3     Like many others, I counted on the appearance ...  negative\n",
            "4     This movie was on t.v the other day, and I did...  negative\n",
            "...                                                 ...       ...\n",
            "9995  I thought this movie did a down right good job...  positive\n",
            "9996  Bad plot, bad dialogue, bad acting, idiotic di...  negative\n",
            "9997  I am a Catholic taught in parochial elementary...  negative\n",
            "9998  I'm going to have to disagree with the previou...  negative\n",
            "9999  No one expects the Star Trek movies to be high...  negative\n",
            "\n",
            "[10000 rows x 2 columns]\n"
          ],
          "name": "stdout"
        }
      ]
    },
    {
      "cell_type": "code",
      "metadata": {
        "id": "4xE3o41lzPB7",
        "outputId": "ea42bd7c-e0a9-43c4-d2a6-efe475f50f44",
        "colab": {
          "base_uri": "https://localhost:8080/",
          "height": 265
        }
      },
      "source": [
        "print(df_test)"
      ],
      "execution_count": 9,
      "outputs": [
        {
          "output_type": "stream",
          "text": [
            "                                                 review\n",
            "0     One of the other reviewers has mentioned that ...\n",
            "1     A wonderful little production. <br /><br />The...\n",
            "2     I thought this was a wonderful way to spend ti...\n",
            "3     Basically there's a family where a little boy ...\n",
            "4     Petter Mattei's \"Love in the Time of Money\" is...\n",
            "...                                                 ...\n",
            "9995  Fun, entertaining movie about WWII German spy ...\n",
            "9996  Give me a break. How can anyone say that this ...\n",
            "9997  This movie is a bad movie. But after watching ...\n",
            "9998  This is a movie that was probably made to ente...\n",
            "9999  Smashing film about film-making. Shows the int...\n",
            "\n",
            "[10000 rows x 1 columns]\n"
          ],
          "name": "stdout"
        }
      ]
    },
    {
      "cell_type": "markdown",
      "metadata": {
        "id": "y-RSC5OHkezC"
      },
      "source": [
        "# Naive Classifier \n",
        "\n",
        "Below is an example of a naive solution involving no ML."
      ]
    },
    {
      "cell_type": "code",
      "metadata": {
        "id": "VkSF8r9NSrh0",
        "outputId": "953e2a85-8941-4a64-fe37-64257b9e0bec",
        "colab": {
          "base_uri": "https://localhost:8080/",
          "height": 332
        }
      },
      "source": [
        "\n",
        "naive_classifier = []\n",
        "for t in df_val['review']:\n",
        "  if np.any([substr in t.lower() for substr in ['best','wonderful','good','favourite','great','fun','family']]):\n",
        "    naive_classifier.append('positive')\n",
        "  else:\n",
        "    naive_classifier.append('negative')\n",
        "\n",
        "#evaluate how good the approach is (using the validation set)\n",
        "evaluate_classifier(df_val['sentiment'], naive_classifier)\n",
        "\n",
        "\n",
        "naive_classifier_on_test = []\n",
        "for t in df_test['review']:\n",
        "  if np.any([substr in t.lower() for substr in ['best','wonderful','good','favourite','great']]):\n",
        "    naive_classifier_on_test.append('positive')\n",
        "  else:\n",
        "    naive_classifier_on_test.append('negative')\n",
        "#create_zip(naive_classifier_on_test)"
      ],
      "execution_count": null,
      "outputs": [
        {
          "output_type": "stream",
          "text": [
            "*** Accuracy score: 0.5684\n",
            "\n"
          ],
          "name": "stdout"
        },
        {
          "output_type": "display_data",
          "data": {
            "image/png": "[encoded data removed]",
            "text/plain": [
              "<Figure size 432x288 with 2 Axes>"
            ]
          },
          "metadata": {
            "tags": [],
            "needs_background": "light"
          }
        }
      ]
    },
    {
      "cell_type": "markdown",
      "metadata": {
        "id": "2jbHydbkDJ-l"
      },
      "source": [
        "# K Nearest Neighbours (KNN) Classifier \n",
        "\n",
        "Below is an example of a KNN classifier, however this is not a veery good approach for this type of task and yields an accuracy of only 61%.\n"
      ]
    },
    {
      "cell_type": "code",
      "metadata": {
        "id": "tCCdAzJxXGUT",
        "outputId": "1bd6ee52-c81e-45d6-9f08-4f316f91c219",
        "colab": {
          "base_uri": "https://localhost:8080/",
          "height": 52
        }
      },
      "source": [
        "# apply pre_proc() function to all data splits\n",
        "proc_train = pre_proc(df_train['review'])\n",
        "proc_val = pre_proc(df_val['review'])\n",
        "proc_test = pre_proc(df_test['review'])\n",
        "\n",
        "# call extract_features() to extract features\n",
        "# you can play with the parameters of this function do generate different feature vectors:\n",
        "### binary = True --> means that it will create a binary vector (either a word appears in a review or not)\n",
        "###          changing it to False will use frequencies (how many times a word appears in a review)\n",
        "###          it will also normalise it. \n",
        "### max_df = ignore terms that have a frequency higher than the value assigned (1.0 means no term is discarded)\n",
        "### min_df = ignore terms that have a frequency lower than the value assigned (0.0 means no term is discarded)\n",
        "### ngram_range = range of the n_grams. If (1,1) only single words are considered. If (1,2) single words and 2-word groups are considered\n",
        "###               If (1,3) single words, 2-word, and 3-word groups are considered. Be careful because this can create far too many positions in your vector!\n",
        "### sw = if True, it will use a pre-defined stopwords list to filter out some terms.  \n",
        "X_train, X_val, X_test = extract_features(proc_train, proc_val, proc_test, binary=True, max_df=10.0, min_df=0.0, ngram_range=(1,1), sw=False)\n",
        "\n",
        "# extract labels\n",
        "y_train = df_train['sentiment']\n",
        "y_val = df_val['sentiment']\n",
        "y_test = df_val['sentiment']"
      ],
      "execution_count": null,
      "outputs": [
        {
          "output_type": "stream",
          "text": [
            "** Vocabulary size: 80566\n",
            "** Words:\n"
          ],
          "name": "stdout"
        }
      ]
    },
    {
      "cell_type": "code",
      "metadata": {
        "id": "HJxDnzCX6d5v"
      },
      "source": [
        "# example of a sklearn classifier \n",
        "# in the first code block here we also import several others classifiers available in sklearn\n",
        "# they all follow the same structure:\n",
        "## 1-) create an instance of the classifier (e.g. kkn = NeighborsClassifier())\n",
        "## 2-) train the model using the training data (e.g. knn.fit(X_train, y_train))\n",
        "## 3-) generate predictions for the test set (e.g. preds = knn.predict(X_test))\n",
        "## link ot more sklearn classifiers: https://scikit-learn.org/stable/supervised_learning.html\n",
        "knn = KNeighborsClassifier()\n",
        "knn.fit(X_train, y_train)\n",
        "knn_preds_val = knn.predict(X_val)"
      ],
      "execution_count": null,
      "outputs": []
    },
    {
      "cell_type": "code",
      "metadata": {
        "id": "EP6l0GfkExKA",
        "outputId": "1d124aba-8286-40a6-9ae0-0d043b5891ed",
        "colab": {
          "base_uri": "https://localhost:8080/",
          "height": 581
        }
      },
      "source": [
        "# evaluating the model in the validation set (you do not have gold values for test set here!)\n",
        "print(\"Predicted values for the validation set:\")\n",
        "print(knn_preds_val)\n",
        "evaluate_classifier(y_val, knn_preds_val)\n",
        "print(y_val)"
      ],
      "execution_count": null,
      "outputs": [
        {
          "output_type": "stream",
          "text": [
            "Predicted values for the validation set:\n",
            "['negative' 'negative' 'negative' ... 'negative' 'negative' 'negative']\n",
            "*** Accuracy score: 0.6118\n",
            "\n",
            "0       negative\n",
            "1       negative\n",
            "2       negative\n",
            "3       negative\n",
            "4       negative\n",
            "          ...   \n",
            "9995    positive\n",
            "9996    negative\n",
            "9997    negative\n",
            "9998    negative\n",
            "9999    negative\n",
            "Name: sentiment, Length: 10000, dtype: object\n"
          ],
          "name": "stdout"
        },
        {
          "output_type": "display_data",
          "data": {
            "image/png": "[encoded data removed]",
            "text/plain": [
              "<Figure size 432x288 with 2 Axes>"
            ]
          },
          "metadata": {
            "tags": [],
            "needs_background": "light"
          }
        }
      ]
    },
    {
      "cell_type": "code",
      "metadata": {
        "id": "LJDmxgHxE2wm",
        "outputId": "d72cf86c-fbba-42d2-f19c-19e49e4a836b",
        "colab": {
          "base_uri": "https://localhost:8080/",
          "height": 52
        }
      },
      "source": [
        "# predicting the test set\n",
        "#we can't assess how well these have done in this notebook for that we\n",
        "#will have to submit them to the codalab competition system (see below)\n",
        "knn_preds_test = knn.predict(X_test)\n",
        "\n",
        "print(\"Predicted values for the test set:\")\n",
        "print(knn_preds_test)"
      ],
      "execution_count": null,
      "outputs": [
        {
          "output_type": "stream",
          "text": [
            "Predicted values for the test set:\n",
            "['negative' 'positive' 'positive' ... 'negative' 'negative' 'negative']\n"
          ],
          "name": "stdout"
        }
      ]
    },
    {
      "cell_type": "code",
      "metadata": {
        "id": "eIMYAcvw4dv0",
        "outputId": "f766c8f2-f058-4860-a622-d4dc6bd1a8f4",
        "colab": {
          "base_uri": "https://localhost:8080/",
          "height": 16
        }
      },
      "source": [
        "#Convert the 'knn_preds_test' array of 'negative' and\n",
        "#'positive's into an answer.zip file. This will also\n",
        "#try to allow you to download the file. \n",
        "create_zip(knn_preds_test)"
      ],
      "execution_count": null,
      "outputs": [
        {
          "output_type": "display_data",
          "data": {
            "application/javascript": [
              "\n",
              "    async function download(id, filename, size) {\n",
              "      if (!google.colab.kernel.accessAllowed) {\n",
              "        return;\n",
              "      }\n",
              "      const div = document.createElement('div');\n",
              "      const label = document.createElement('label');\n",
              "      label.textContent = `Downloading \"${filename}\": `;\n",
              "      div.appendChild(label);\n",
              "      const progress = document.createElement('progress');\n",
              "      progress.max = size;\n",
              "      div.appendChild(progress);\n",
              "      document.body.appendChild(div);\n",
              "\n",
              "      const buffers = [];\n",
              "      let downloaded = 0;\n",
              "\n",
              "      const channel = await google.colab.kernel.comms.open(id);\n",
              "      // Send a message to notify the kernel that we're ready.\n",
              "      channel.send({})\n",
              "\n",
              "      for await (const message of channel.messages) {\n",
              "        // Send a message to notify the kernel that we're ready.\n",
              "        channel.send({})\n",
              "        if (message.buffers) {\n",
              "          for (const buffer of message.buffers) {\n",
              "            buffers.push(buffer);\n",
              "            downloaded += buffer.byteLength;\n",
              "            progress.value = downloaded;\n",
              "          }\n",
              "        }\n",
              "      }\n",
              "      const blob = new Blob(buffers, {type: 'application/binary'});\n",
              "      const a = document.createElement('a');\n",
              "      a.href = window.URL.createObjectURL(blob);\n",
              "      a.download = filename;\n",
              "      div.appendChild(a);\n",
              "      a.click();\n",
              "      div.remove();\n",
              "    }\n",
              "  "
            ],
            "text/plain": [
              "<IPython.core.display.Javascript object>"
            ]
          },
          "metadata": {
            "tags": []
          }
        },
        {
          "output_type": "display_data",
          "data": {
            "application/javascript": [
              "download(\"download_24c242df-ecb4-4a08-825e-7dc6c275e279\", \"answer.zip\", 90117)"
            ],
            "text/plain": [
              "<IPython.core.display.Javascript object>"
            ]
          },
          "metadata": {
            "tags": []
          }
        }
      ]
    },
    {
      "cell_type": "markdown",
      "metadata": {
        "id": "mKJVuYTxlOTZ"
      },
      "source": [
        "# Logistic Regression Classifier\n",
        "\n",
        "Below is a classifier using a logistic reression algorithm. This is much better than the above solutions with an accuracy of 91% when ngram_Range of 1,2 is used."
      ]
    },
    {
      "cell_type": "code",
      "metadata": {
        "id": "DYLI0y0slSfH",
        "outputId": "acb0bc3c-656b-49d9-fb63-98f806499749",
        "colab": {
          "base_uri": "https://localhost:8080/",
          "height": 756
        }
      },
      "source": [
        "\n",
        "############################## preparing data\n",
        "\n",
        "# apply pre_proc() function to all data splits\n",
        "proc_train = pre_proc(df_train['review'])\n",
        "proc_val = pre_proc(df_val['review'])\n",
        "proc_test = pre_proc(df_test['review'])\n",
        "\n",
        "#extract features\n",
        "X_train, X_val, X_test = extract_features(proc_train, proc_val, proc_test, binary=False, max_df=10.0, min_df=0.0, ngram_range=(1,2), sw=False)\n",
        "\n",
        "# extract pre-known sentiment labels (used for training and evaluation)\n",
        "y_train = df_train['sentiment']\n",
        "y_val = df_val['sentiment']\n",
        "\n",
        "############################ finds best parameter c for the logistic regression (based on evaluation set)\n",
        "\n",
        "def optimise_C(X_train, y_train, X_val, y_val, C=[0.01, 0.025, 0.05, 0.25, 0.5, 1.0]):\n",
        "    #optimise the parameter C using the validation data\n",
        "    best_acc = 0.\n",
        "    best_c = 0.\n",
        "    accuracies = []\n",
        "    for c in C:\n",
        "    \n",
        "        lr = LogisticRegression(C=c, multi_class='auto', solver='liblinear')\n",
        "        lr.fit(X_train, y_train)\n",
        "        cur_acc = accuracy_score(y_val, lr.predict(X_val))\n",
        "        print (\"Accuracy for C=%s: %s\" % (c, cur_acc))\n",
        "        accuracies.append(cur_acc)\n",
        "        if cur_acc > best_acc:\n",
        "            best_c = c\n",
        "            best_acc = cur_acc\n",
        "\n",
        "    print (\"*** Best accuracy = %f, best C = %f\" % (best_acc, best_c))\n",
        "    plt.plot(np.array(C).astype('str'), accuracies, 'ro')\n",
        "    return best_c\n",
        "\n",
        "#apply the above function\n",
        "ngram11_C=[0.0745, 0.075, 0.07525, 0.0754, 0.0755, 0.08, 0.09, 0.10, 0.25] #best c values for ngram_range 1,1\n",
        "ngram12_C=[0.07,0.08,0.09, 0.10, 0.11,0.17] #best c values for ngram_range 1,2\n",
        "ngram13_C=[0.3,0.325,0.35,0.375,0.4] #best c values for ngram_range 1,3\n",
        "best_c = optimise_C(X_train, y_train, X_val, y_val, C=[0.07,0.08,0.09, 0.10, 0.11,0.17])\n",
        "\n",
        "################################# validation set evaluation\n",
        "\n",
        "lr = LogisticRegression(C=best_c, multi_class='auto', solver='liblinear')\n",
        "lr.fit(X_train, y_train) #fits model according to training data\n",
        "lr_preds = lr.predict(X_val) #predict class labels \n",
        "evaluate_classifier(y_val, lr_preds)\n",
        "\n",
        "################################# test set predictions\n",
        "\n",
        "lrt = LogisticRegression(C=best_c,multi_class='auto', solver='liblinear')\n",
        "lrt.fit(X_train,y_train)\n",
        "lrt_preds=lrt.predict(X_test)\n",
        "\n",
        "################################create zip\n",
        "#create_zip(lrt_preds)\n"
      ],
      "execution_count": 10,
      "outputs": [
        {
          "output_type": "stream",
          "text": [
            "** Vocabulary size: 1706851\n",
            "** Words:\n",
            "Accuracy for C=0.07: 0.9011\n",
            "Accuracy for C=0.08: 0.9015\n",
            "Accuracy for C=0.09: 0.9016\n",
            "Accuracy for C=0.1: 0.9016\n",
            "Accuracy for C=0.11: 0.9015\n",
            "Accuracy for C=0.17: 0.9015\n",
            "*** Best accuracy = 0.901600, best C = 0.090000\n",
            "*** Accuracy score: 0.9016\n",
            "\n"
          ],
          "name": "stdout"
        },
        {
          "output_type": "display_data",
          "data": {
            "application/javascript": [
              "\n",
              "    async function download(id, filename, size) {\n",
              "      if (!google.colab.kernel.accessAllowed) {\n",
              "        return;\n",
              "      }\n",
              "      const div = document.createElement('div');\n",
              "      const label = document.createElement('label');\n",
              "      label.textContent = `Downloading \"${filename}\": `;\n",
              "      div.appendChild(label);\n",
              "      const progress = document.createElement('progress');\n",
              "      progress.max = size;\n",
              "      div.appendChild(progress);\n",
              "      document.body.appendChild(div);\n",
              "\n",
              "      const buffers = [];\n",
              "      let downloaded = 0;\n",
              "\n",
              "      const channel = await google.colab.kernel.comms.open(id);\n",
              "      // Send a message to notify the kernel that we're ready.\n",
              "      channel.send({})\n",
              "\n",
              "      for await (const message of channel.messages) {\n",
              "        // Send a message to notify the kernel that we're ready.\n",
              "        channel.send({})\n",
              "        if (message.buffers) {\n",
              "          for (const buffer of message.buffers) {\n",
              "            buffers.push(buffer);\n",
              "            downloaded += buffer.byteLength;\n",
              "            progress.value = downloaded;\n",
              "          }\n",
              "        }\n",
              "      }\n",
              "      const blob = new Blob(buffers, {type: 'application/binary'});\n",
              "      const a = document.createElement('a');\n",
              "      a.href = window.URL.createObjectURL(blob);\n",
              "      a.download = filename;\n",
              "      div.appendChild(a);\n",
              "      a.click();\n",
              "      div.remove();\n",
              "    }\n",
              "  "
            ],
            "text/plain": [
              "<IPython.core.display.Javascript object>"
            ]
          },
          "metadata": {
            "tags": []
          }
        },
        {
          "output_type": "display_data",
          "data": {
            "application/javascript": [
              "download(\"download_36fdbbee-4122-4ebf-8e03-a8cf56acc857\", \"answer.zip\", 90117)"
            ],
            "text/plain": [
              "<IPython.core.display.Javascript object>"
            ]
          },
          "metadata": {
            "tags": []
          }
        },
        {
          "output_type": "display_data",
          "data": {
            "image/png": "[encoded data removed]",
            "text/plain": [
              "<Figure size 432x288 with 1 Axes>"
            ]
          },
          "metadata": {
            "tags": [],
            "needs_background": "light"
          }
        },
        {
          "output_type": "display_data",
          "data": {
            "image/png": "[encoded data removed]",
            "text/plain": [
              "<Figure size 432x288 with 2 Axes>"
            ]
          },
          "metadata": {
            "tags": [],
            "needs_background": "light"
          }
        }
      ]
    },
    {
      "cell_type": "markdown",
      "metadata": {
        "id": "QVNgvokAJlPT"
      },
      "source": [
        "# User Input"
      ]
    },
    {
      "cell_type": "code",
      "metadata": {
        "id": "-XOUr6JfXCQd",
        "outputId": "67b87b11-05a0-4b85-a6a1-53340c835825",
        "colab": {
          "base_uri": "https://localhost:8080/",
          "height": 551
        }
      },
      "source": [
        "# apply pre_proc() function to all data splits\n",
        "proc_train = pre_proc(df_train['review'])\n",
        "proc_val = pre_proc(df_val['review'])\n",
        "\n",
        "################################# adding user input \n",
        "reviews = [\"In the end, it reduces public-housing dwellers to the same stock roles they occupy in less thoughtful films, limiting their stories rather than allowing them to develop.\",\"Because of the heavy use of tropes, the documentary style and genre subversion are not enough to make Five Star feel urgent or authentic.\" ] # <=-- type a movie review for sentiment analysis here\n",
        "\n",
        "################################# pre-processing of user input  \n",
        "proc_inp = pre_proc(reviews)\n",
        "print (\"Processed data: \", proc_inp)\n",
        "\n",
        "################################ extract features\n",
        "X_train, X_val, X_test = extract_features(proc_train, proc_val, proc_inp, binary=False, max_df=10.0, min_df=0.0, ngram_range=(1,2), sw=False)\n",
        "\n",
        "################################ optimise C\n",
        "best_c = optimise_C(X_train, y_train, X_val, y_val, C=[0.09])\n",
        "\n",
        "################################# validation set evaluation\n",
        "#lr = LogisticRegression(C=0.09, multi_class='auto', solver='liblinear')\n",
        "#lr.fit(X_train, y_train) #fits model according to training data\n",
        "#lr_preds = lr.predict(X_val) #predict class labels \n",
        "#evaluate_classifier(y_val, lr_preds)\n",
        "\n",
        "################################# test set predictions\n",
        "lrt = LogisticRegression(C=0.09,multi_class='auto', solver='liblinear')\n",
        "lrt.fit(X_train,y_train)\n",
        "lrt_preds=lrt.predict(X_test)\n",
        "\n",
        "################################# show results\n",
        "print(\"##########################################################################\")\n",
        "print(\"Processing complete\")\n",
        "print()\n",
        "i=0\n",
        "for review in reviews:\n",
        "  print(\"'\",reviews[i],\"'\")\n",
        "  print(\"^\",lrt_preds[i], \"Sentiment ^\")\n",
        "  print()\n",
        "  i=i+1\n",
        "print(\"##########################################################################\")"
      ],
      "execution_count": 21,
      "outputs": [
        {
          "output_type": "stream",
          "text": [
            "Processed data:  ['in the end it reduces public housing dwellers to the same stock roles they occupy in less thoughtful films limiting their stories rather than allowing them to develop ', 'because of the heavy use of tropes the documentary style and genre subversion are not enough to make five star feel urgent or authentic ']\n",
            "** Vocabulary size: 1706851\n",
            "** Words:\n",
            "Accuracy for C=0.09: 0.9016\n",
            "*** Best accuracy = 0.901600, best C = 0.090000\n",
            "##########################################################################\n",
            "Processing complete\n",
            "\n",
            "' In the end, it reduces public-housing dwellers to the same stock roles they occupy in less thoughtful films, limiting their stories rather than allowing them to develop. '\n",
            "^ negative Sentiment ^\n",
            "\n",
            "' Because of the heavy use of tropes, the documentary style and genre subversion are not enough to make Five Star feel urgent or authentic. '\n",
            "^ negative Sentiment ^\n",
            "\n",
            "##########################################################################\n"
          ],
          "name": "stdout"
        },
        {
          "output_type": "display_data",
          "data": {
            "image/png": "[encoded data removed]",
            "text/plain": [
              "<Figure size 432x288 with 1 Axes>"
            ]
          },
          "metadata": {
            "tags": [],
            "needs_background": "light"
          }
        }
      ]
    }
  ]
}